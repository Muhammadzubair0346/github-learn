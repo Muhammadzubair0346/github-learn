{
 "cells": [
  {
   "cell_type": "markdown",
   "id": "5a746aa8-9ee5-4cf5-bdda-de8587598e47",
   "metadata": {},
   "source": [
    "### Condition Statement"
   ]
  },
  {
   "cell_type": "code",
   "execution_count": 2,
   "id": "aeec2e47-ef85-4b80-83bb-2c8e1b498a54",
   "metadata": {},
   "outputs": [],
   "source": [
    "is_ramadan = True"
   ]
  },
  {
   "cell_type": "code",
   "execution_count": 4,
   "id": "2a51ce7f-ec9e-4441-a029-128c9368c9e0",
   "metadata": {},
   "outputs": [
    {
     "name": "stdout",
     "output_type": "stream",
     "text": [
      "Timing 10:00am to 01:00pm\n"
     ]
    }
   ],
   "source": [
    "if is_ramadan:\n",
    "    print(\"Timing 10:00am to 01:00pm\")"
   ]
  },
  {
   "cell_type": "code",
   "execution_count": 12,
   "id": "18a94b22-e90e-4003-b5ec-744062735515",
   "metadata": {},
   "outputs": [],
   "source": [
    "age = 19"
   ]
  },
  {
   "cell_type": "code",
   "execution_count": 22,
   "id": "a486bcd6-712c-4453-8b59-a1740070a70e",
   "metadata": {},
   "outputs": [
    {
     "name": "stdout",
     "output_type": "stream",
     "text": [
      "No can't eligible for apply CNIC\n"
     ]
    }
   ],
   "source": [
    "age =17\n",
    "\n",
    "if age > 18 :\n",
    "    print(\"Yes you eligible for apply CNIC\")\n",
    "else:\n",
    "    print (\"No can't eligible for apply CNIC\")"
   ]
  },
  {
   "cell_type": "markdown",
   "id": "c8f993ce-d0ae-46bf-a183-907efb846ff4",
   "metadata": {},
   "source": [
    "A school has following rules for grading system:\n",
    "a. Below 25 - F\n",
    "\n",
    "b. 25 to 45 - E\n",
    "\n",
    "c. 45 to 50 - D\n",
    "\n",
    "d. 50 to 60 - C\n",
    "\n",
    "e. 60 to 80 - B\n",
    "\n",
    "f. Above 80 - A\n",
    "\n",
    "Ask user to enter marks and print the corresponding grade."
   ]
  },
  {
   "cell_type": "code",
   "execution_count": 100,
   "id": "cf96c94e-de0d-4ad5-94ef-8be5a02eb39a",
   "metadata": {},
   "outputs": [
    {
     "name": "stdin",
     "output_type": "stream",
     "text": [
      "Enter your Marks:  100\n"
     ]
    },
    {
     "name": "stdout",
     "output_type": "stream",
     "text": [
      "Grade A\n"
     ]
    }
   ],
   "source": [
    "marks = int(input(\"Enter your Marks: \"))\n",
    "\n",
    "if marks > 80 and marks <= 100:\n",
    "    print(\"Grade A\")\n",
    "elif marks > 70 and marks <= 80:\n",
    "    print(\"Grade B\")\n",
    "elif marks > 60 and marks <= 70:\n",
    "    print(\"Grade C\")\n",
    "elif marks > 50 and marks <= 60:\n",
    "    print(\"Grade D\")\n",
    "elif marks > 20 and marks <=50:\n",
    "    print(\"Grade E\")\n",
    "elif marks > 0 and marks <=20:\n",
    "    print(\"Grade F\")\n",
    "else: \n",
    "    print(\"Invalid Input\")"
   ]
  },
  {
   "cell_type": "markdown",
   "id": "fc68f383-d782-4062-b8c4-0048eedd7a98",
   "metadata": {},
   "source": [
    "Ask user to enter age, gender ( M or F ), marital status ( Y or N ) and then using following rules print their place of service.\n",
    "\n",
    "- if employee is female, then she will work only in urban areas.\n",
    "\n",
    "- if employee is a male and age is in between 20 to 40 then he may work in anywhere\n",
    "\n",
    "- if employee is male and age is in between 40 t0 60 then he will work in urban areas only.\n",
    "\n",
    "And any other input of age should print \"ERROR\""
   ]
  },
  {
   "cell_type": "code",
   "execution_count": 120,
   "id": "d6e10334-f523-4282-ad11-9d19b2faf7c5",
   "metadata": {},
   "outputs": [
    {
     "name": "stdin",
     "output_type": "stream",
     "text": [
      "Enter your Age:  25\n",
      "What your gender M/F:  F\n",
      "Enter your martial_status (Y/N):  Y\n"
     ]
    },
    {
     "name": "stdout",
     "output_type": "stream",
     "text": [
      "will work only in urban areas.\n"
     ]
    }
   ],
   "source": [
    "age = int(input(\"Enter your Age: \"))\n",
    "gender = input(\"What your gender M/F: \")\n",
    "martial_status = input(\"Enter your martial_status (Y/N): \")\n",
    "\n",
    "if gender == \"F\":\n",
    "    print(\"will work only in urban areas.\")\n",
    "elif (gender == \"M\") and (age>= 20 and age <40):\n",
    "    print(\"work in anywhere\")\n",
    "elif (gender == \"M\") and (age>= 40 and age <60):\n",
    "    print(\"will work in urban areas only.\")\n",
    "else:\n",
    "    print(\"Error\")"
   ]
  },
  {
   "cell_type": "code",
   "execution_count": 148,
   "id": "54389d1c-c4a6-4669-a483-e3031394251a",
   "metadata": {},
   "outputs": [],
   "source": [
    "countries = [ \"Pakistan\", \"India\", \"America\", \"South Africa\", \"Canada\" ]"
   ]
  },
  {
   "cell_type": "code",
   "execution_count": 149,
   "id": "4d0d8889-7dda-4673-a8a0-5f7c0b42ab49",
   "metadata": {},
   "outputs": [
    {
     "data": {
      "text/plain": [
       "['Pakistan', 'India', 'America', 'South Africa', 'Canada']"
      ]
     },
     "execution_count": 149,
     "metadata": {},
     "output_type": "execute_result"
    }
   ],
   "source": [
    "countries"
   ]
  },
  {
   "cell_type": "code",
   "execution_count": 150,
   "id": "288faf97-a0eb-4fb7-b0fa-91ef8bca1aee",
   "metadata": {},
   "outputs": [
    {
     "data": {
      "text/plain": [
       "['Pakistan', 'India', 'America', 'South Africa']"
      ]
     },
     "execution_count": 150,
     "metadata": {},
     "output_type": "execute_result"
    }
   ],
   "source": [
    "countries[:4]"
   ]
  },
  {
   "cell_type": "code",
   "execution_count": 163,
   "id": "cce0b449-f35a-4ff2-a9ed-1e82bb3f65a2",
   "metadata": {},
   "outputs": [
    {
     "data": {
      "text/plain": [
       "['Pakistan', 'India', 'America', 'South Africa', 'Canada']"
      ]
     },
     "execution_count": 163,
     "metadata": {},
     "output_type": "execute_result"
    }
   ],
   "source": [
    "countries"
   ]
  },
  {
   "cell_type": "code",
   "execution_count": 151,
   "id": "fc11c5d2-4444-4a60-98db-5bdc11ed0741",
   "metadata": {},
   "outputs": [
    {
     "data": {
      "text/plain": [
       "True"
      ]
     },
     "execution_count": 151,
     "metadata": {},
     "output_type": "execute_result"
    }
   ],
   "source": [
    "True or False"
   ]
  },
  {
   "cell_type": "code",
   "execution_count": 152,
   "id": "274b71d6-3de7-4083-b506-be01ded4e4f0",
   "metadata": {},
   "outputs": [
    {
     "data": {
      "text/plain": [
       "False"
      ]
     },
     "execution_count": 152,
     "metadata": {},
     "output_type": "execute_result"
    }
   ],
   "source": [
    "True and False"
   ]
  },
  {
   "cell_type": "code",
   "execution_count": 172,
   "id": "a7c40544-87c4-4899-998d-16f1dce85880",
   "metadata": {},
   "outputs": [
    {
     "name": "stdout",
     "output_type": "stream",
     "text": [
      "Buy onions\n"
     ]
    }
   ],
   "source": [
    "onion_fresh = True \n",
    "# Change to False if not fresh\n",
    "decision = \"Buy onions\" if onion_fresh or False else \"Leave it\"\n",
    "print(decision)"
   ]
  },
  {
   "cell_type": "code",
   "execution_count": 164,
   "id": "50656842-3486-4aa2-a0d1-551d60c399b9",
   "metadata": {},
   "outputs": [
    {
     "data": {
      "text/plain": [
       "['Pakistan', 'India', 'America', 'South Africa', 'Canada']"
      ]
     },
     "execution_count": 164,
     "metadata": {},
     "output_type": "execute_result"
    }
   ],
   "source": [
    "countries"
   ]
  },
  {
   "cell_type": "code",
   "execution_count": 168,
   "id": "9a44d69b-009d-4317-9570-2867117e5d27",
   "metadata": {},
   "outputs": [],
   "source": [
    "countries.remove('India')"
   ]
  },
  {
   "cell_type": "code",
   "execution_count": 169,
   "id": "437d6595-9776-4593-b4d2-4bfd9c6eb6cf",
   "metadata": {},
   "outputs": [
    {
     "data": {
      "text/plain": [
       "['Pakistan', 'America', 'South Africa', 'Canada']"
      ]
     },
     "execution_count": 169,
     "metadata": {},
     "output_type": "execute_result"
    }
   ],
   "source": [
    "countries"
   ]
  },
  {
   "cell_type": "code",
   "execution_count": null,
   "id": "cb69c2d9-20cc-48b7-97e8-0eec0c9ff6dd",
   "metadata": {},
   "outputs": [],
   "source": []
  }
 ],
 "metadata": {
  "kernelspec": {
   "display_name": "Python 3 (ipykernel)",
   "language": "python",
   "name": "python3"
  },
  "language_info": {
   "codemirror_mode": {
    "name": "ipython",
    "version": 3
   },
   "file_extension": ".py",
   "mimetype": "text/x-python",
   "name": "python",
   "nbconvert_exporter": "python",
   "pygments_lexer": "ipython3",
   "version": "3.12.7"
  }
 },
 "nbformat": 4,
 "nbformat_minor": 5
}
