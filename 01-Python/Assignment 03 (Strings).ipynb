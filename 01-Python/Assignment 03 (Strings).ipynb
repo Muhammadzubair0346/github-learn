{
 "cells": [
  {
   "cell_type": "code",
   "execution_count": null,
   "id": "1c6689a6-a9f4-4ea2-ab1d-4786b05051aa",
   "metadata": {},
   "outputs": [],
   "source": []
  },
  {
   "cell_type": "markdown",
   "id": "849c1c1c-fad2-4f3a-ac48-bc63371829c5",
   "metadata": {},
   "source": [
    "1. Write a program that accepts a string from user. Your program should count and display number of\n",
    "vowels in that string."
   ]
  },
  {
   "cell_type": "code",
   "execution_count": 4,
   "id": "1833fbd6-b39b-4f40-a63b-221791c28175",
   "metadata": {},
   "outputs": [
    {
     "name": "stdin",
     "output_type": "stream",
     "text": [
      "Enter your String:  hello\n"
     ]
    },
    {
     "name": "stdout",
     "output_type": "stream",
     "text": [
      "Number of vowels in the string: 2\n"
     ]
    }
   ],
   "source": [
    "user_string = input(\"Enter your String: \")\n",
    "vowels = \"aeiouAEIOU\"\n",
    "vowel_count = sum(1 for char in user_string if char in vowels)\n",
    "print(f\"Number of vowels in the string: {vowel_count}\")"
   ]
  },
  {
   "cell_type": "markdown",
   "id": "88153be0-9d1f-41e1-a5fd-38ab4a307bcc",
   "metadata": {},
   "source": [
    "4) Write a program that reads a string from keyboard and display:\n",
    "* The number of uppercase letters in the string\n",
    "* The number of lowercase letters in the string\n",
    "* The number of digits in the string\n",
    "* The number of whitespace characters in the string"
   ]
  },
  {
   "cell_type": "code",
   "execution_count": 12,
   "id": "1e2a9734-238e-4341-95a6-e9e8ca8f443e",
   "metadata": {},
   "outputs": [
    {
     "name": "stdin",
     "output_type": "stream",
     "text": [
      "Enter a string:  Zubair\n"
     ]
    },
    {
     "name": "stdout",
     "output_type": "stream",
     "text": [
      "Number of uppercase letters: 1\n",
      "Number of lowercase letters: 5\n",
      "Number of digits: 0\n",
      "Number of whitespace characters: 0\n"
     ]
    }
   ],
   "source": [
    "user_str = input(\"Enter a string: \")\n",
    "uppercase_count = sum(1 for char in user_str if char.isupper())\n",
    "lowercase_count = sum(1 for char in user_str if char.islower())\n",
    "digit_count = sum(1 for char in user_str if char.isdigit())\n",
    "whitespace_count = sum(1 for char in user_str if char.isspace())\n",
    "\n",
    "print(f\"Number of uppercase letters: {uppercase_count}\")\n",
    "print(f\"Number of lowercase letters: {lowercase_count}\")\n",
    "print(f\"Number of digits: {digit_count}\")\n",
    "print(f\"Number of whitespace characters: {whitespace_count}\")\n"
   ]
  },
  {
   "cell_type": "code",
   "execution_count": null,
   "id": "8a148ab7-e9b6-4388-82e3-ea7ea2775788",
   "metadata": {},
   "outputs": [],
   "source": []
  },
  {
   "cell_type": "markdown",
   "id": "1e659960-0032-4062-af2e-962568a313d8",
   "metadata": {},
   "source": [
    "3. Write a Python program that accepts a string from user. Your program should create and display a\n",
    "new string where the first and last characters have been exchanged.\n",
    "\n",
    "For example if the user enters the string 'HELLO' then new string would be 'OELLH'"
   ]
  },
  {
   "cell_type": "code",
   "execution_count": 14,
   "id": "21c7cf0f-66ad-4032-8ad8-e8d57c943d72",
   "metadata": {},
   "outputs": [
    {
     "name": "stdin",
     "output_type": "stream",
     "text": [
      "Enter a string:  Zubair\n"
     ]
    },
    {
     "name": "stdout",
     "output_type": "stream",
     "text": [
      "New string after swapping first and last characters: rubaiZ\n"
     ]
    }
   ],
   "source": [
    "user_string = input(\"Enter a string: \")\n",
    "if len(user_string) >= 2:\n",
    "     new_string = user_string[-1] + user_string[1:-1] + user_string[0]\n",
    "else:\n",
    "     new_string = user_string\n",
    "print(f\"New string after swapping first and last characters: {new_string}\")\n"
   ]
  },
  {
   "cell_type": "markdown",
   "id": "53c969c1-edec-430e-bd95-1bf8bdf72f65",
   "metadata": {},
   "source": [
    "4. Write a Python program that accepts a string from user. Your program should create a new string in\n",
    "reverse of first string and display it.\n",
    "\n",
    "For example if the user enters the string 'EXAM' then new string would be 'MAXE'"
   ]
  },
  {
   "cell_type": "code",
   "execution_count": 17,
   "id": "9e9b3a0d-4f20-4a3f-863f-8b8447366e60",
   "metadata": {},
   "outputs": [
    {
     "name": "stdin",
     "output_type": "stream",
     "text": [
      "Enter a string:  Karachi\n"
     ]
    },
    {
     "name": "stdout",
     "output_type": "stream",
     "text": [
      "Reversed string: ihcaraK\n"
     ]
    }
   ],
   "source": [
    "user_string = input(\"Enter a string: \")\n",
    "reversed_string = user_string[::-1]\n",
    "print(f\"Reversed string: {reversed_string}\")"
   ]
  },
  {
   "cell_type": "markdown",
   "id": "4e418ccb-b19c-4d23-acba-44f4f002ff6c",
   "metadata": {},
   "source": [
    "5. Write a Python program that accepts a string from user. Your program should create a new string by\n",
    "shifting one position to left.\n",
    "For example if the user enters the string 'examination 2021' then new string would be 'xamination\n",
    "2021e'"
   ]
  },
  {
   "cell_type": "code",
   "execution_count": 20,
   "id": "4ec140c3-04e8-4776-83fb-c68fde1d7a90",
   "metadata": {},
   "outputs": [
    {
     "name": "stdin",
     "output_type": "stream",
     "text": [
      "Enter a string:  examination 2021\n"
     ]
    },
    {
     "name": "stdout",
     "output_type": "stream",
     "text": [
      "Shifted string: xamination 2021e\n"
     ]
    }
   ],
   "source": [
    "user_string = input(\"Enter a string: \")\n",
    "if len(user_string) > 1:\n",
    "   shifted_string = user_string[1:] + user_string[0]\n",
    "else:\n",
    "   shifted_string = user_string\n",
    "print(f\"Shifted string: {shifted_string}\")\n"
   ]
  },
  {
   "cell_type": "markdown",
   "id": "19337e25-cfc9-465f-85a0-1a2a786ca862",
   "metadata": {},
   "source": [
    "6. Write a program that asks the user to input his name and print its initials. Assuming that the user\n",
    "always types first name, middle name and last name and does not include any unnecessary spaces.\n",
    "\n",
    "For example, if the user enters Ajay Kumar Garg the program should display A. K. G.\n",
    "Note:Don't use split() method"
   ]
  },
  {
   "cell_type": "code",
   "execution_count": null,
   "id": "7709010c-3d65-489c-836e-830ec06b7267",
   "metadata": {},
   "outputs": [],
   "source": []
  }
 ],
 "metadata": {
  "kernelspec": {
   "display_name": "Python 3 (ipykernel)",
   "language": "python",
   "name": "python3"
  },
  "language_info": {
   "codemirror_mode": {
    "name": "ipython",
    "version": 3
   },
   "file_extension": ".py",
   "mimetype": "text/x-python",
   "name": "python",
   "nbconvert_exporter": "python",
   "pygments_lexer": "ipython3",
   "version": "3.12.7"
  }
 },
 "nbformat": 4,
 "nbformat_minor": 5
}
