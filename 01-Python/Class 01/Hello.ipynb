{
 "cells": [
  {
   "cell_type": "markdown",
   "id": "6506af28-203a-405d-aaaf-c3f40025d7e4",
   "metadata": {},
   "source": [
    "### Shortcut Of Jupyter\n",
    "- Shift + Enter ==> Cell Execute\n",
    "- Esc + A ==> Create a Cell above \n",
    "- Esc + B ==> Create a Cell bellow"
   ]
  },
  {
   "cell_type": "code",
   "execution_count": 2,
   "id": "e77637f9-96c2-4b01-9228-50337b7f3196",
   "metadata": {},
   "outputs": [
    {
     "name": "stdout",
     "output_type": "stream",
     "text": [
      "CDE Class\n"
     ]
    }
   ],
   "source": [
    "print(\"CDE Class\")"
   ]
  },
  {
   "cell_type": "code",
   "execution_count": 18,
   "id": "a6d1c171-0118-4811-bd23-40e677f572f5",
   "metadata": {},
   "outputs": [],
   "source": [
    "name = \"Muhammad Zubair\" # variable Declare\n",
    "age = 34\n",
    "weight = 76.5\n",
    "is_present = True"
   ]
  },
  {
   "cell_type": "code",
   "execution_count": 19,
   "id": "2f8859aa-fd80-4dc2-8d78-7a263cf5e5d8",
   "metadata": {},
   "outputs": [
    {
     "name": "stdout",
     "output_type": "stream",
     "text": [
      "Muhammad Zubair\n",
      "<class 'str'>\n",
      "---------\n",
      "34\n",
      "<class 'int'>\n",
      "----------\n",
      "76.5\n",
      "<class 'float'>\n",
      "----------\n",
      "True\n",
      "<class 'bool'>\n"
     ]
    }
   ],
   "source": [
    "print(name)\n",
    "print(type(name))\n",
    "print('---------')\n",
    "print(age)\n",
    "print(type(age))\n",
    "print('----------')\n",
    "print(weight)\n",
    "print(type(weight))\n",
    "print('----------')\n",
    "print(is_present)\n",
    "print(type(is_present))"
   ]
  },
  {
   "cell_type": "code",
   "execution_count": 21,
   "id": "343843f8-5c1a-49c9-be9e-18e013777244",
   "metadata": {},
   "outputs": [
    {
     "data": {
      "text/plain": [
       "29"
      ]
     },
     "execution_count": 21,
     "metadata": {},
     "output_type": "execute_result"
    }
   ],
   "source": [
    "age - 5"
   ]
  },
  {
   "cell_type": "code",
   "execution_count": 22,
   "id": "445e7581-9df5-4f2d-ac8d-cc8352e759f7",
   "metadata": {},
   "outputs": [],
   "source": [
    "First_name = \"Muahmmad\"\n",
    "Last_name = \"Zubair\""
   ]
  },
  {
   "cell_type": "code",
   "execution_count": 24,
   "id": "4d3c5a80-c6f3-4e9a-b067-c59125d6a13b",
   "metadata": {},
   "outputs": [
    {
     "ename": "TypeError",
     "evalue": "'str' object is not callable",
     "output_type": "error",
     "traceback": [
      "\u001b[1;31m---------------------------------------------------------------------------\u001b[0m",
      "\u001b[1;31mTypeError\u001b[0m                                 Traceback (most recent call last)",
      "Cell \u001b[1;32mIn[24], line 1\u001b[0m\n\u001b[1;32m----> 1\u001b[0m \u001b[38;5;28mprint\u001b[39m(First_name(Last_name))\n",
      "\u001b[1;31mTypeError\u001b[0m: 'str' object is not callable"
     ]
    }
   ],
   "source": [
    "print(First_name(Last_name))"
   ]
  },
  {
   "cell_type": "code",
   "execution_count": 25,
   "id": "6fedb805-f652-4006-bd77-d98c7ce002b8",
   "metadata": {},
   "outputs": [],
   "source": [
    "First_name = \"Muhammad\""
   ]
  },
  {
   "cell_type": "code",
   "execution_count": 26,
   "id": "1a57e13f-ff70-47c5-bb4b-700d8d7031ad",
   "metadata": {},
   "outputs": [],
   "source": [
    "Last_name = \"Zubair\""
   ]
  },
  {
   "cell_type": "code",
   "execution_count": 27,
   "id": "d584a2cf-d7da-43d1-b01e-8d2a1a18dc88",
   "metadata": {},
   "outputs": [
    {
     "data": {
      "text/plain": [
       "'Muhammad  Zubair'"
      ]
     },
     "execution_count": 27,
     "metadata": {},
     "output_type": "execute_result"
    }
   ],
   "source": [
    "First_name + \"  \" +Last_name"
   ]
  },
  {
   "cell_type": "code",
   "execution_count": 28,
   "id": "e09d856b-dd55-4cb3-9b57-9863382cf63c",
   "metadata": {},
   "outputs": [
    {
     "data": {
      "text/plain": [
       "'Muhammad Zubair'"
      ]
     },
     "execution_count": 28,
     "metadata": {},
     "output_type": "execute_result"
    }
   ],
   "source": [
    "f'{First_name} {Last_name}'"
   ]
  },
  {
   "cell_type": "code",
   "execution_count": 3,
   "id": "a11ec956-b6ff-4d87-90aa-b494767917de",
   "metadata": {},
   "outputs": [
    {
     "data": {
      "text/plain": [
       "1"
      ]
     },
     "execution_count": 3,
     "metadata": {},
     "output_type": "execute_result"
    }
   ],
   "source": [
    "10 % 3"
   ]
  },
  {
   "cell_type": "code",
   "execution_count": 4,
   "id": "15a9126f-e45e-4a72-b6f1-a87563da89b2",
   "metadata": {},
   "outputs": [
    {
     "data": {
      "text/plain": [
       "0"
      ]
     },
     "execution_count": 4,
     "metadata": {},
     "output_type": "execute_result"
    }
   ],
   "source": [
    "9 % 3"
   ]
  },
  {
   "cell_type": "code",
   "execution_count": 6,
   "id": "9764ab36-a372-4613-9977-4f8d58203c05",
   "metadata": {},
   "outputs": [
    {
     "name": "stdout",
     "output_type": "stream",
     "text": [
      "Muhammad Zubair\n"
     ]
    }
   ],
   "source": [
    "print(name) "
   ]
  },
  {
   "cell_type": "code",
   "execution_count": 7,
   "id": "9935abc9-16cd-40ce-9d1b-363788e4d113",
   "metadata": {},
   "outputs": [],
   "source": [
    "age +=2"
   ]
  },
  {
   "cell_type": "code",
   "execution_count": 8,
   "id": "f2689bd8-9f81-4def-9abc-46ad13fb1808",
   "metadata": {},
   "outputs": [
    {
     "name": "stdout",
     "output_type": "stream",
     "text": [
      "38\n"
     ]
    }
   ],
   "source": [
    "print(age)"
   ]
  },
  {
   "cell_type": "code",
   "execution_count": 9,
   "id": "b49bd15b-251a-4b98-a3b3-9f8bb9f78cf7",
   "metadata": {},
   "outputs": [],
   "source": [
    "age -=4"
   ]
  },
  {
   "cell_type": "code",
   "execution_count": 11,
   "id": "95ff56bc-abdc-4c95-bd27-c012a38b8af2",
   "metadata": {},
   "outputs": [
    {
     "data": {
      "text/plain": [
       "34"
      ]
     },
     "execution_count": 11,
     "metadata": {},
     "output_type": "execute_result"
    }
   ],
   "source": [
    "age"
   ]
  },
  {
   "cell_type": "code",
   "execution_count": 28,
   "id": "d9795c05-1849-4333-836f-f8935368012e",
   "metadata": {},
   "outputs": [
    {
     "name": "stdin",
     "output_type": "stream",
     "text": [
      "enter your age:  65\n",
      "What your gender (M/F):  M\n"
     ]
    },
    {
     "name": "stdout",
     "output_type": "stream",
     "text": [
      "Error\n"
     ]
    }
   ],
   "source": [
    "age = int(input(\"enter your age: \"))\n",
    "gender = input(\"What your gender (M/F): \")\n",
    "#martial_status = input(\"Enter your martial status (Y/): \")\n",
    "\n",
    "if gender == \"F\":\n",
    " print (\"Will work only in Urban area Areas\")\n",
    "elif (gender == \"M\") and (age>= 20 and age <40):\n",
    " print (\"Will work in Any Where\")\n",
    "elif (gender == \"M\") and (age>=40 and age <60):\n",
    " print (\"Can work only Urban areas\")\n",
    "else:\n",
    " print (\"Error\")"
   ]
  },
  {
   "cell_type": "markdown",
   "id": "b446f2b2-276b-4206-b5eb-8913e7c46be1",
   "metadata": {},
   "source": [
    "## Comparison Operators"
   ]
  },
  {
   "cell_type": "code",
   "execution_count": 22,
   "id": "2b9453b6-c106-4740-9bbb-1cd43990657a",
   "metadata": {},
   "outputs": [
    {
     "data": {
      "text/plain": [
       "True"
      ]
     },
     "execution_count": 22,
     "metadata": {},
     "output_type": "execute_result"
    }
   ],
   "source": [
    "45!= 54"
   ]
  },
  {
   "cell_type": "code",
   "execution_count": null,
   "id": "c210a659-f019-452b-862e-f13a2736ca6e",
   "metadata": {},
   "outputs": [],
   "source": [
    "- condition1 or condition2 (**any one condition should be TRUE"
   ]
  },
  {
   "cell_type": "markdown",
   "id": "39e4a31f-7e7d-438e-bde0-8dc6a2bb342f",
   "metadata": {},
   "source": [
    "## List"
   ]
  },
  {
   "cell_type": "code",
   "execution_count": 29,
   "id": "8a70cc3d-593e-4acb-931a-0246ac43c7e8",
   "metadata": {},
   "outputs": [],
   "source": [
    "#eg\n",
    "country0 = \"Pakistan\"\n",
    "contry1 = \"Canada\"\n",
    "country2 = \"America\"\n",
    "#..."
   ]
  },
  {
   "cell_type": "code",
   "execution_count": 50,
   "id": "1c36a3be-57d5-463b-bf7a-5c01584e57a9",
   "metadata": {},
   "outputs": [],
   "source": [
    "countries = [\n",
    "    \"Pakistan\",\n",
    "    \"India\",\n",
    "    \"Canada\"  \n",
    "]"
   ]
  },
  {
   "cell_type": "code",
   "execution_count": 51,
   "id": "6250c1cf-a915-443e-93c4-29402ffb05ac",
   "metadata": {},
   "outputs": [
    {
     "data": {
      "text/plain": [
       "['Pakistan', 'India', 'Canada']"
      ]
     },
     "execution_count": 51,
     "metadata": {},
     "output_type": "execute_result"
    }
   ],
   "source": [
    "countries"
   ]
  },
  {
   "cell_type": "code",
   "execution_count": 36,
   "id": "d2b8cf42-df91-4395-89eb-cec65fc0d8a3",
   "metadata": {},
   "outputs": [
    {
     "data": {
      "text/plain": [
       "['India']"
      ]
     },
     "execution_count": 36,
     "metadata": {},
     "output_type": "execute_result"
    }
   ],
   "source": [
    "Countries[-1:]"
   ]
  },
  {
   "cell_type": "code",
   "execution_count": 52,
   "id": "cbef4ca8-65bd-4fb0-95b2-fc3d0cf2ab1a",
   "metadata": {},
   "outputs": [
    {
     "data": {
      "text/plain": [
       "['Pakistan', 'India', 'Canada']"
      ]
     },
     "execution_count": 52,
     "metadata": {},
     "output_type": "execute_result"
    }
   ],
   "source": [
    "countries"
   ]
  },
  {
   "cell_type": "code",
   "execution_count": null,
   "id": "70aeb4a1-8914-4b24-bde5-807552ebd32d",
   "metadata": {},
   "outputs": [],
   "source": []
  }
 ],
 "metadata": {
  "kernelspec": {
   "display_name": "Python 3 (ipykernel)",
   "language": "python",
   "name": "python3"
  },
  "language_info": {
   "codemirror_mode": {
    "name": "ipython",
    "version": 3
   },
   "file_extension": ".py",
   "mimetype": "text/x-python",
   "name": "python",
   "nbconvert_exporter": "python",
   "pygments_lexer": "ipython3",
   "version": "3.12.7"
  }
 },
 "nbformat": 4,
 "nbformat_minor": 5
}
